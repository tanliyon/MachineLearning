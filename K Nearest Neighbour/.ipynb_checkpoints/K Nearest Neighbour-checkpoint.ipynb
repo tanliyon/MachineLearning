{
 "cells": [
  {
   "cell_type": "code",
   "execution_count": 110,
   "metadata": {
    "collapsed": true
   },
   "outputs": [],
   "source": [
    "import numpy as np\n",
    "from scipy import stats\n",
    "import matplotlib.pyplot as plt"
   ]
  },
  {
   "cell_type": "code",
   "execution_count": 80,
   "metadata": {},
   "outputs": [],
   "source": [
    "class k_nearest_neighbours():\n",
    "    \n",
    "    def __init__ (self):\n",
    "        pass\n",
    "    \n",
    "    def predict(xTest, xTrain, yTrain, k, distanceType):\n",
    "        distance = []\n",
    "        label = []\n",
    "        prediction = []\n",
    "        \n",
    "        for i in range(xTest.shape[0]):\n",
    "            for j in range(len(xTrain)):\n",
    "                if (distanceType == 'L1'):\n",
    "                    currentDistance = k_nearest_neighbours.manhattanDistance(xTest[i], xTrain[j])\n",
    "                elif (distanceType == 'L2'):\n",
    "                    currentDistance = k_nearest_neighbours.euclidianDistance(xTest[i], xTrain[j])\n",
    "                \n",
    "                if (len(distance) < k):\n",
    "                    distance.append(currentDistance)\n",
    "                    label.append(yTrain[j])\n",
    "                elif (currentDistance < np.max(distance)):\n",
    "                    index = np.argmax(distance)\n",
    "                    distance[index] = currentDistance\n",
    "                    label[index] = yTrain[j]\n",
    "        \n",
    "            prediction.append(stats.mode(label)[0][0])\n",
    "            distance = []\n",
    "            label = []\n",
    "        return prediction\n",
    "    \n",
    "    def euclidianDistance(firstArray, secondArray):\n",
    "        distance = np.sqrt(np.absolute(firstArray**2 - secondArray**2))\n",
    "        totalDistance = np.sum(distance)\n",
    "        return totalDistance\n",
    "    \n",
    "    def manhattanDistance(firstArray, secondArray):\n",
    "        distance = np.absolute(firstArray - secondArray)\n",
    "        totalDistance = np.sum(distance)\n",
    "        return totalDistance\n",
    "    \n",
    "    def accuracy(prediction, actual):\n",
    "        accurateCases = np.sum(np.equal(prediction, actual))\n",
    "        finalAccuracy = accurateCases / len(prediction)\n",
    "        return finalAccuracy * 100"
   ]
  },
  {
   "cell_type": "code",
   "execution_count": 81,
   "metadata": {
    "collapsed": true
   },
   "outputs": [],
   "source": [
    "def unpickle(file):\n",
    "    import pickle\n",
    "    with open(file, 'rb') as fo:\n",
    "        dict = pickle.load(fo, encoding='bytes')\n",
    "        features = dict[b'data']\n",
    "        target = dict[b'labels']\n",
    "    return features, target"
   ]
  },
  {
   "cell_type": "code",
   "execution_count": 144,
   "metadata": {},
   "outputs": [],
   "source": [
    "## Constants & hyperparameters tuning\n",
    "FILEPATH = 'E:\\Projects\\TensorFlowPlayground\\CIFAR10\\cifar-10-python\\cifar-10-batches-py'\n",
    "K = 10\n",
    "NUMBER_OF_BATCHES = 5\n",
    "BATCH_SIZE = 50\n",
    "nn = k_nearest_neighbours"
   ]
  },
  {
   "cell_type": "code",
   "execution_count": 145,
   "metadata": {},
   "outputs": [],
   "source": [
    "## Extract CIFAR-10 training and test data\n",
    "xTrain, yTrain = unpickle(FILEPATH+'\\\\data_batch_1')\n",
    "xTest, yTest = unpickle(FILEPATH+'\\\\test_batch')"
   ]
  },
  {
   "cell_type": "code",
   "execution_count": 146,
   "metadata": {
    "collapsed": true
   },
   "outputs": [],
   "source": [
    "## Normalize data\n",
    "xTrain = xTrain / 255\n",
    "xTest = xTest / 255"
   ]
  },
  {
   "cell_type": "code",
   "execution_count": 147,
   "metadata": {},
   "outputs": [
    {
     "name": "stdout",
     "output_type": "stream",
     "text": [
      "L1 Distance Accuracy\n",
      "\n",
      "Individual Accuracy: [ 24.  26.  32.  32.  30.]\n",
      "K: 1, Accuracy: 28.8%\n",
      "\n",
      "Individual Accuracy: [ 16.  26.  32.  32.  26.]\n",
      "K: 2, Accuracy: 26.4%\n",
      "\n",
      "Individual Accuracy: [ 14.  36.  40.  26.  20.]\n",
      "K: 3, Accuracy: 27.2%\n",
      "\n",
      "Individual Accuracy: [ 18.  36.  38.  26.  20.]\n",
      "K: 4, Accuracy: 27.6%\n",
      "\n",
      "Individual Accuracy: [ 22.  40.  42.  22.  22.]\n",
      "K: 5, Accuracy: 29.6%\n",
      "\n",
      "Individual Accuracy: [ 20.  38.  36.  20.  22.]\n",
      "K: 6, Accuracy: 27.2%\n",
      "\n",
      "Individual Accuracy: [ 28.  40.  36.  18.  26.]\n",
      "K: 7, Accuracy: 29.6%\n",
      "\n",
      "Individual Accuracy: [ 26.  42.  40.  20.  22.]\n",
      "K: 8, Accuracy: 30.0%\n",
      "\n",
      "Individual Accuracy: [ 24.  38.  40.  24.  30.]\n",
      "K: 9, Accuracy: 31.2%\n",
      "\n",
      "Individual Accuracy: [ 30.  44.  38.  20.  28.]\n",
      "K: 10, Accuracy: 32.0%\n",
      "\n"
     ]
    }
   ],
   "source": [
    "## Accuracy with L1 distance\n",
    "print(\"L1 Distance Accuracy\\n\")\n",
    "accuracyArray = np.zeros([K, NUMBER_OF_BATCHES])\n",
    "meanAccuracy = []\n",
    "\n",
    "for i in range(K):\n",
    "    for j in range(NUMBER_OF_BATCHES):\n",
    "        prediction = nn.predict(xTest[j*BATCH_SIZE:BATCH_SIZE*(j+1)], xTrain, yTrain, i+1, 'L1')\n",
    "        accuracyArray[i][j] = nn.accuracy(prediction, yTest[j*BATCH_SIZE:BATCH_SIZE*(j+1)])\n",
    "    meanAccuracy.append(np.mean(accuracyArray[i]))\n",
    "    print('Individual Accuracy: {}'.format(accuracyArray[i]))\n",
    "    print('K: {}, Accuracy: {}%\\n'.format(i+1, meanAccuracy[i]))\n",
    "    currentAccuracy = []"
   ]
  },
  {
   "cell_type": "code",
   "execution_count": 148,
   "metadata": {},
   "outputs": [
    {
     "data": {
      "image/png": "[encoded data removed]",
      "text/plain": [
       "<matplotlib.figure.Figure at 0x1d001a69748>"
      ]
     },
     "metadata": {},
     "output_type": "display_data"
    }
   ],
   "source": [
    "accuracyArray = np.transpose(accuracyArray)\n",
    "plt.boxplot(accuracyArray)\n",
    "plt.title(\"Accuracy for L1 Distance with differing K\")\n",
    "plt.xlabel(\"K\")\n",
    "plt.ylabel(\"Accuracy(%)\")\n",
    "plt.show()"
   ]
  },
  {
   "cell_type": "code",
   "execution_count": 149,
   "metadata": {},
   "outputs": [
    {
     "name": "stdout",
     "output_type": "stream",
     "text": [
      "L2 Distance Accuracy\n",
      "\n",
      "Individual Accuracy: [ 12.  30.  44.  28.  26.]\n",
      "K: 1, Accuracy: 28.0%\n",
      "\n",
      "Individual Accuracy: [ 14.  30.  38.  24.  28.]\n",
      "K: 2, Accuracy: 26.8%\n",
      "\n",
      "Individual Accuracy: [ 16.  38.  46.  26.  26.]\n",
      "K: 3, Accuracy: 30.4%\n",
      "\n",
      "Individual Accuracy: [ 20.  36.  44.  20.  24.]\n",
      "K: 4, Accuracy: 28.8%\n",
      "\n",
      "Individual Accuracy: [ 20.  40.  42.  22.  22.]\n",
      "K: 5, Accuracy: 29.2%\n",
      "\n",
      "Individual Accuracy: [ 26.  42.  38.  26.  26.]\n",
      "K: 6, Accuracy: 31.6%\n",
      "\n",
      "Individual Accuracy: [ 28.  44.  36.  24.  24.]\n",
      "K: 7, Accuracy: 31.2%\n",
      "\n",
      "Individual Accuracy: [ 28.  44.  42.  26.  30.]\n",
      "K: 8, Accuracy: 34.0%\n",
      "\n",
      "Individual Accuracy: [ 26.  44.  38.  26.  26.]\n",
      "K: 9, Accuracy: 32.0%\n",
      "\n",
      "Individual Accuracy: [ 32.  46.  36.  26.  26.]\n",
      "K: 10, Accuracy: 33.2%\n",
      "\n"
     ]
    }
   ],
   "source": [
    "## Accuracy with L2 distance\n",
    "print(\"L2 Distance Accuracy\\n\")\n",
    "accuracyArray = np.zeros([K, NUMBER_OF_BATCHES])\n",
    "meanAccuracy = []\n",
    "\n",
    "for i in range(K):\n",
    "    for j in range(NUMBER_OF_BATCHES):\n",
    "        prediction = nn.predict(xTest[j*BATCH_SIZE:BATCH_SIZE*(j+1)], xTrain, yTrain, i+1, 'L2')\n",
    "        accuracyArray[i][j] = nn.accuracy(prediction, yTest[j*BATCH_SIZE:BATCH_SIZE*(j+1)])\n",
    "    meanAccuracy.append(np.mean(accuracyArray[i]))\n",
    "    print('Individual Accuracy: {}'.format(accuracyArray[i]))\n",
    "    print('K: {}, Accuracy: {}%\\n'.format(i+1, meanAccuracy[i]))\n",
    "    currentAccuracy = []"
   ]
  },
  {
   "cell_type": "code",
   "execution_count": 152,
   "metadata": {},
   "outputs": [
    {
     "data": {
      "image/png": "[encoded data removed]",
      "text/plain": [
       "<matplotlib.figure.Figure at 0x1d001a4d748>"
      ]
     },
     "metadata": {},
     "output_type": "display_data"
    }
   ],
   "source": [
    "accuracyArray = np.transpose(accuracyArray)\n",
    "plt.boxplot(accuracyArray)\n",
    "plt.title(\"Accuracy for L2 Distance with differing K\")\n",
    "plt.xlabel(\"K\")\n",
    "plt.ylabel(\"Accuracy(%)\")\n",
    "plt.show()"
   ]
  }
 ],
 "metadata": {
  "kernelspec": {
   "display_name": "Python 3",
   "language": "python",
   "name": "python3"
  },
  "language_info": {
   "codemirror_mode": {
    "name": "ipython",
    "version": 3
   },
   "file_extension": ".py",
   "mimetype": "text/x-python",
   "name": "python",
   "nbconvert_exporter": "python",
   "pygments_lexer": "ipython3",
   "version": "3.6.3"
  }
 },
 "nbformat": 4,
 "nbformat_minor": 2
}
