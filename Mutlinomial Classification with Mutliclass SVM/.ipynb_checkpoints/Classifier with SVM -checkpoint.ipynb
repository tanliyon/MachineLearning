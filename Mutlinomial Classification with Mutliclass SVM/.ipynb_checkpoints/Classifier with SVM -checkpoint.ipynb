{
 "cells": [
  {
   "cell_type": "code",
   "execution_count": 6,
   "metadata": {
    "collapsed": true
   },
   "outputs": [],
   "source": [
    "import numpy as np\n",
    "import matplotlib.pyplot as plt"
   ]
  },
  {
   "cell_type": "code",
   "execution_count": 7,
   "metadata": {
    "collapsed": true
   },
   "outputs": [],
   "source": [
    "# Hyperparameters & Constants\n",
    "FILEPATH = 'E:\\Projects\\TensorFlowPlayground\\CIFAR10\\cifar-10-python\\cifar-10-batches-py'\n",
    "CONFIDENCE_MARGIN = 1\n",
    "STEP_SIZE = 0.01\n",
    "REGULARIZATION_WEIGHT = 0.1\n",
    "BATCH_SIZE = 128\n",
    "EPOCH = 10"
   ]
  },
  {
   "cell_type": "code",
   "execution_count": 27,
   "metadata": {
    "collapsed": true
   },
   "outputs": [],
   "source": [
    "def unpickle(file):\n",
    "    import pickle\n",
    "    with open(file, 'rb') as fo:\n",
    "        dict = pickle.load(fo, encoding='bytes')\n",
    "        features = dict[b'data']\n",
    "        target = dict[b'labels']\n",
    "    return features, target"
   ]
  },
  {
   "cell_type": "code",
   "execution_count": 225,
   "metadata": {},
   "outputs": [],
   "source": [
    "class mutliclassSVM:\n",
    "    \n",
    "    def __init__(self, W, B, regularization=\"L1\", polyDegree=3, lossMethod=\"SVMLoss\", epoch=5, \n",
    "                 maxIter=1000, margin=1, alpha=0.001, beta=0.1):\n",
    "        self.W = W\n",
    "        self.B = B\n",
    "        self.regularization = regularization\n",
    "        self.polyDegree = polyDegree\n",
    "        self.lossMethod = lossMethod\n",
    "        self.margin = margin\n",
    "        self.epoch = epoch\n",
    "        self.alpha = alpha\n",
    "        self.beta=beta\n",
    "        return;\n",
    "    \n",
    "    def fit(self, xTrain, yTrain):\n",
    "        for i in range(self.epoch):\n",
    "            yPredict = np.dot(xTrain, self.W) + self.B\n",
    "            if (self.lossMethod == \"SVMLoss\"):\n",
    "                loss = self.SVMLoss(yPredict, yTrain, 1)\n",
    "            W, B = self.vanillaGD(yTrain, yPredict, loss)\n",
    "        \n",
    "    def SVMLoss(self, yPredict, yTrain, margin):\n",
    "        loss = np.maximum(0, yPredict - yTrain + margin) #+ self.beta*(np.absolute(W) **2)\n",
    "        return loss.sum() / xTrain.shape[0]\n",
    "    \n",
    "    def vanillaGD(self, yTrain, yPredict, loss):\n",
    "        for i in range(xTrain.shape[0]):\n",
    "            gradient = np.maximum(0, yPredict[i] - yTrain[i] + self.margin) #+ beta*(np.absolute(W) **2)\n",
    "            self.W[i] -= self.alpha*gradient + self.beta*(np.absolute(W) **2)\n",
    "            self.B[i] -= self.alpha*gradient + self.beta*(np.absolute(W) **2)"
   ]
  },
  {
   "cell_type": "code",
   "execution_count": 45,
   "metadata": {},
   "outputs": [],
   "source": [
    "# Import training and testing set\n",
    "xTrain1, yTrain1 = unpickle(FILEPATH+'\\\\data_batch_1')\n",
    "xTrain2, yTrain2 = unpickle(FILEPATH+'\\\\data_batch_2')\n",
    "xTrain3, yTrain3 = unpickle(FILEPATH+'\\\\data_batch_3')\n",
    "xTrain4, yTrain4 = unpickle(FILEPATH+'\\\\data_batch_4')\n",
    "xTrain5, yTrain5 = unpickle(FILEPATH+'\\\\data_batch_5')\n",
    "xTrain = np.concatenate((xTrain1, xTrain2, xTrain3, xTrain4, xTrain5))\n",
    "yTrain = np.concatenate((yTrain1, yTrain2, yTrain3, yTrain4, yTrain5))\n",
    "xTest, yTest = unpickle(FILEPATH+'\\\\test_batch')"
   ]
  },
  {
   "cell_type": "code",
   "execution_count": 51,
   "metadata": {},
   "outputs": [],
   "source": [
    "# Normalization\n",
    "xTrain = xTrain / 255\n",
    "xTest = xTest / 255\n",
    "xTrain.shape\n",
    "numberOfInputs = xTrain.shape[0]"
   ]
  },
  {
   "cell_type": "code",
   "execution_count": 168,
   "metadata": {},
   "outputs": [],
   "source": [
    "yTrainEncoded = np.zeros((numberOfInputs, len(np.unique(yTrain))))\n",
    "for i in range(numberOfInputs):\n",
    "    yTrainEncoded[i][yTrain[i]-1] = 1\n",
    "\n",
    "yTestEncoded = np.zeros((xTest.shape[0], len(np.unique(yTest))))\n",
    "for i in range(xTest.shape[0]):\n",
    "    yTestEncoded[i][yTest[i]-1] = 1"
   ]
  },
  {
   "cell_type": "code",
   "execution_count": 176,
   "metadata": {},
   "outputs": [],
   "source": [
    "# Initialize weights and bias\n",
    "W = (np.random.rand(3072, 10) - 0.5)\n",
    "B = np.zeros((numberOfInputs, 10))"
   ]
  },
  {
   "cell_type": "code",
   "execution_count": 226,
   "metadata": {},
   "outputs": [
    {
     "ename": "ValueError",
     "evalue": "non-broadcastable output operand with shape (10,) doesn't match the broadcast shape (3072,10)",
     "output_type": "error",
     "traceback": [
      "\u001b[1;31m---------------------------------------------------------------------------\u001b[0m",
      "\u001b[1;31mValueError\u001b[0m                                Traceback (most recent call last)",
      "\u001b[1;32m<ipython-input-226-113fbd9d8699>\u001b[0m in \u001b[0;36m<module>\u001b[1;34m()\u001b[0m\n\u001b[0;32m      1\u001b[0m \u001b[0mSVM\u001b[0m \u001b[1;33m=\u001b[0m \u001b[0mmutliclassSVM\u001b[0m\u001b[1;33m(\u001b[0m\u001b[0mW\u001b[0m\u001b[1;33m,\u001b[0m \u001b[0mB\u001b[0m\u001b[1;33m,\u001b[0m \u001b[0mpolyDegree\u001b[0m\u001b[1;33m=\u001b[0m\u001b[1;36m2\u001b[0m\u001b[1;33m,\u001b[0m \u001b[0mmargin\u001b[0m\u001b[1;33m=\u001b[0m\u001b[1;36m1\u001b[0m\u001b[1;33m,\u001b[0m \u001b[0malpha\u001b[0m\u001b[1;33m=\u001b[0m\u001b[1;36m0.001\u001b[0m\u001b[1;33m)\u001b[0m\u001b[1;33m\u001b[0m\u001b[0m\n\u001b[1;32m----> 2\u001b[1;33m \u001b[0mSVM\u001b[0m\u001b[1;33m.\u001b[0m\u001b[0mfit\u001b[0m\u001b[1;33m(\u001b[0m\u001b[0mxTrain\u001b[0m\u001b[1;33m,\u001b[0m \u001b[0myTrainEncoded\u001b[0m\u001b[1;33m)\u001b[0m\u001b[1;33m\u001b[0m\u001b[0m\n\u001b[0m",
      "\u001b[1;32m<ipython-input-225-025339baedb0>\u001b[0m in \u001b[0;36mfit\u001b[1;34m(self, xTrain, yTrain)\u001b[0m\n\u001b[0;32m     19\u001b[0m             \u001b[1;32mif\u001b[0m \u001b[1;33m(\u001b[0m\u001b[0mself\u001b[0m\u001b[1;33m.\u001b[0m\u001b[0mlossMethod\u001b[0m \u001b[1;33m==\u001b[0m \u001b[1;34m\"SVMLoss\"\u001b[0m\u001b[1;33m)\u001b[0m\u001b[1;33m:\u001b[0m\u001b[1;33m\u001b[0m\u001b[0m\n\u001b[0;32m     20\u001b[0m                 \u001b[0mloss\u001b[0m \u001b[1;33m=\u001b[0m \u001b[0mself\u001b[0m\u001b[1;33m.\u001b[0m\u001b[0mSVMLoss\u001b[0m\u001b[1;33m(\u001b[0m\u001b[0myPredict\u001b[0m\u001b[1;33m,\u001b[0m \u001b[0myTrain\u001b[0m\u001b[1;33m,\u001b[0m \u001b[1;36m1\u001b[0m\u001b[1;33m)\u001b[0m\u001b[1;33m\u001b[0m\u001b[0m\n\u001b[1;32m---> 21\u001b[1;33m             \u001b[0mW\u001b[0m\u001b[1;33m,\u001b[0m \u001b[0mB\u001b[0m \u001b[1;33m=\u001b[0m \u001b[0mself\u001b[0m\u001b[1;33m.\u001b[0m\u001b[0mvanillaGD\u001b[0m\u001b[1;33m(\u001b[0m\u001b[0myTrain\u001b[0m\u001b[1;33m,\u001b[0m \u001b[0myPredict\u001b[0m\u001b[1;33m,\u001b[0m \u001b[0mloss\u001b[0m\u001b[1;33m)\u001b[0m\u001b[1;33m\u001b[0m\u001b[0m\n\u001b[0m\u001b[0;32m     22\u001b[0m \u001b[1;33m\u001b[0m\u001b[0m\n\u001b[0;32m     23\u001b[0m     \u001b[1;32mdef\u001b[0m \u001b[0mSVMLoss\u001b[0m\u001b[1;33m(\u001b[0m\u001b[0mself\u001b[0m\u001b[1;33m,\u001b[0m \u001b[0myPredict\u001b[0m\u001b[1;33m,\u001b[0m \u001b[0myTrain\u001b[0m\u001b[1;33m,\u001b[0m \u001b[0mmargin\u001b[0m\u001b[1;33m)\u001b[0m\u001b[1;33m:\u001b[0m\u001b[1;33m\u001b[0m\u001b[0m\n",
      "\u001b[1;32m<ipython-input-225-025339baedb0>\u001b[0m in \u001b[0;36mvanillaGD\u001b[1;34m(self, yTrain, yPredict, loss)\u001b[0m\n\u001b[0;32m     28\u001b[0m         \u001b[1;32mfor\u001b[0m \u001b[0mi\u001b[0m \u001b[1;32min\u001b[0m \u001b[0mrange\u001b[0m\u001b[1;33m(\u001b[0m\u001b[0mxTrain\u001b[0m\u001b[1;33m.\u001b[0m\u001b[0mshape\u001b[0m\u001b[1;33m[\u001b[0m\u001b[1;36m0\u001b[0m\u001b[1;33m]\u001b[0m\u001b[1;33m)\u001b[0m\u001b[1;33m:\u001b[0m\u001b[1;33m\u001b[0m\u001b[0m\n\u001b[0;32m     29\u001b[0m             \u001b[0mgradient\u001b[0m \u001b[1;33m=\u001b[0m \u001b[0mnp\u001b[0m\u001b[1;33m.\u001b[0m\u001b[0mmaximum\u001b[0m\u001b[1;33m(\u001b[0m\u001b[1;36m0\u001b[0m\u001b[1;33m,\u001b[0m \u001b[0myPredict\u001b[0m\u001b[1;33m[\u001b[0m\u001b[0mi\u001b[0m\u001b[1;33m]\u001b[0m \u001b[1;33m-\u001b[0m \u001b[0myTrain\u001b[0m\u001b[1;33m[\u001b[0m\u001b[0mi\u001b[0m\u001b[1;33m]\u001b[0m \u001b[1;33m+\u001b[0m \u001b[0mself\u001b[0m\u001b[1;33m.\u001b[0m\u001b[0mmargin\u001b[0m\u001b[1;33m)\u001b[0m \u001b[1;31m#+ beta*(np.absolute(W) **2)\u001b[0m\u001b[1;33m\u001b[0m\u001b[0m\n\u001b[1;32m---> 30\u001b[1;33m             \u001b[0mself\u001b[0m\u001b[1;33m.\u001b[0m\u001b[0mW\u001b[0m\u001b[1;33m[\u001b[0m\u001b[0mi\u001b[0m\u001b[1;33m]\u001b[0m \u001b[1;33m-=\u001b[0m \u001b[0mself\u001b[0m\u001b[1;33m.\u001b[0m\u001b[0malpha\u001b[0m\u001b[1;33m*\u001b[0m\u001b[0mgradient\u001b[0m \u001b[1;33m+\u001b[0m \u001b[0mself\u001b[0m\u001b[1;33m.\u001b[0m\u001b[0mbeta\u001b[0m\u001b[1;33m*\u001b[0m\u001b[1;33m(\u001b[0m\u001b[0mnp\u001b[0m\u001b[1;33m.\u001b[0m\u001b[0mabsolute\u001b[0m\u001b[1;33m(\u001b[0m\u001b[0mW\u001b[0m\u001b[1;33m)\u001b[0m \u001b[1;33m**\u001b[0m\u001b[1;36m2\u001b[0m\u001b[1;33m)\u001b[0m\u001b[1;33m\u001b[0m\u001b[0m\n\u001b[0m\u001b[0;32m     31\u001b[0m             \u001b[0mself\u001b[0m\u001b[1;33m.\u001b[0m\u001b[0mB\u001b[0m\u001b[1;33m[\u001b[0m\u001b[0mi\u001b[0m\u001b[1;33m]\u001b[0m \u001b[1;33m-=\u001b[0m \u001b[0mself\u001b[0m\u001b[1;33m.\u001b[0m\u001b[0malpha\u001b[0m\u001b[1;33m*\u001b[0m\u001b[0mgradient\u001b[0m \u001b[1;33m+\u001b[0m \u001b[0mself\u001b[0m\u001b[1;33m.\u001b[0m\u001b[0mbeta\u001b[0m\u001b[1;33m*\u001b[0m\u001b[1;33m(\u001b[0m\u001b[0mnp\u001b[0m\u001b[1;33m.\u001b[0m\u001b[0mabsolute\u001b[0m\u001b[1;33m(\u001b[0m\u001b[0mW\u001b[0m\u001b[1;33m)\u001b[0m \u001b[1;33m**\u001b[0m\u001b[1;36m2\u001b[0m\u001b[1;33m)\u001b[0m\u001b[1;33m\u001b[0m\u001b[0m\n",
      "\u001b[1;31mValueError\u001b[0m: non-broadcastable output operand with shape (10,) doesn't match the broadcast shape (3072,10)"
     ]
    }
   ],
   "source": [
    "SVM = mutliclassSVM(W, B, polyDegree=2, margin=1, alpha=0.001)\n",
    "SVM.fit(xTrain, yTrainEncoded)"
   ]
  },
  {
   "cell_type": "code",
   "execution_count": null,
   "metadata": {},
   "outputs": [],
   "source": []
  }
 ],
 "metadata": {
  "kernelspec": {
   "display_name": "Python 3",
   "language": "python",
   "name": "python3"
  },
  "language_info": {
   "codemirror_mode": {
    "name": "ipython",
    "version": 3
   },
   "file_extension": ".py",
   "mimetype": "text/x-python",
   "name": "python",
   "nbconvert_exporter": "python",
   "pygments_lexer": "ipython3",
   "version": "3.6.3"
  }
 },
 "nbformat": 4,
 "nbformat_minor": 2
}
