{
 "cells": [
  {
   "cell_type": "code",
   "execution_count": 2,
   "metadata": {
    "collapsed": true
   },
   "outputs": [],
   "source": [
    "import numpy as np\n",
    "import matplotlib.pyplot as plt"
   ]
  },
  {
   "cell_type": "code",
   "execution_count": 218,
   "metadata": {
    "collapsed": true
   },
   "outputs": [],
   "source": [
    "# Hyperparameters & Constants\n",
    "FILEPATH = 'E:\\Projects\\TensorFlowPlayground\\CIFAR10\\cifar-10-python\\cifar-10-batches-py'\n",
    "CONFIDENCE_MARGIN = 1\n",
    "STEP_SIZE = 0.01\n",
    "REGULARIZATION_WEIGHT = 0.1\n",
    "BATCH_SIZE = 128\n",
    "EPOCH = 500"
   ]
  },
  {
   "cell_type": "code",
   "execution_count": 110,
   "metadata": {
    "collapsed": true
   },
   "outputs": [],
   "source": [
    "def unpickle(file):\n",
    "    import pickle\n",
    "    with open(file, 'rb') as fo:\n",
    "        dict = pickle.load(fo, encoding='bytes')\n",
    "        features = dict[b'data']\n",
    "        target = dict[b'labels']\n",
    "    return features, target"
   ]
  },
  {
   "cell_type": "code",
   "execution_count": 260,
   "metadata": {},
   "outputs": [],
   "source": [
    "class mutliclassSVM:\n",
    "    \n",
    "    def __init__(self, W, B, regularization=\"L1\", polyDegree=3, lossMethod=\"SVMLoss\", epoch=5, \n",
    "                 maxIter=1000, margin=1, alpha=0.001, beta=0.001):\n",
    "        self.W = W\n",
    "        self.B = B\n",
    "        self.regularization = regularization\n",
    "        self.polyDegree = polyDegree\n",
    "        self.lossMethod = lossMethod\n",
    "        self.margin = margin\n",
    "        self.epoch = epoch\n",
    "        self.alpha = alpha\n",
    "        self.beta=beta\n",
    "        return;\n",
    "    \n",
    "    def fit(self, xTrain, yTrain):\n",
    "        loss = []\n",
    "        for i in range(self.epoch):\n",
    "            if (i == 250):\n",
    "                self.alpha = self.alpha/2\n",
    "            if (i == 300):\n",
    "                 self.alpha = self.alpha/2\n",
    "            if (i == 350):\n",
    "                self.alpha = self.alpha/2\n",
    "            if (i == 400):\n",
    "                self.alpha = self.alpha/2\n",
    "            yPredict = np.dot(xTrain, np.transpose(self.W)) + self.B\n",
    "            loss.append(self.SVMLoss(yPredict, yTrain, 1))\n",
    "            W, B = self.vanillaGD(yTrain, xTrain, yPredict, loss)\n",
    "        return loss\n",
    "        \n",
    "    def SVMLoss(self, yPredict, yTrain, margin):\n",
    "        #print(yPredict - yTrain + 1)\n",
    "        loss = np.maximum(0, yPredict - yTrain + 1)\n",
    "        loss[loss<0] = 0\n",
    "        loss = loss.sum() / numberOfInputs\n",
    "        return loss\n",
    "    \n",
    "    def vanillaGD(self, xTrain, yTrain, yPredict, loss):\n",
    "        for i in range(xTrain.shape[1]):\n",
    "            for j in range(10):\n",
    "                if ((yPredict[i][j] - yTrain[i][j] + self.margin)>0):\n",
    "                    biasGrad = ((yPredict[i][j] - yTrain[i][j] + self.margin) + self.beta + 2*self.beta*W[i][j])\n",
    "                    weightGrad = (xTrain[i][j]*(yPredict[i][j] - yTrain[i][j] + self.margin) + 2*self.beta*W[i][j])\n",
    "                else:\n",
    "                    biasGrad = 0;\n",
    "                    weightGrad = 0\n",
    "                B[i][j] -= self.alpha*biasGrad\n",
    "                W[i][j] -= self.alpha*weightGrad\n",
    "        return W, B"
   ]
  },
  {
   "cell_type": "code",
   "execution_count": 251,
   "metadata": {
    "collapsed": true
   },
   "outputs": [],
   "source": [
    "# Import training and testing set\n",
    "xTrain1, yTrain1 = unpickle(FILEPATH+'\\\\data_batch_1')\n",
    "xTrain2, yTrain2 = unpickle(FILEPATH+'\\\\data_batch_2')\n",
    "xTrain3, yTrain3 = unpickle(FILEPATH+'\\\\data_batch_3')\n",
    "xTrain4, yTrain4 = unpickle(FILEPATH+'\\\\data_batch_4')\n",
    "xTrain5, yTrain5 = unpickle(FILEPATH+'\\\\data_batch_5')\n",
    "xTrain = np.concatenate((xTrain1, xTrain2, xTrain3, xTrain4, xTrain5))\n",
    "yTrain = np.concatenate((yTrain1, yTrain2, yTrain3, yTrain4, yTrain5))\n",
    "xTest, yTest = unpickle(FILEPATH+'\\\\test_batch')"
   ]
  },
  {
   "cell_type": "code",
   "execution_count": 252,
   "metadata": {
    "collapsed": true
   },
   "outputs": [],
   "source": [
    "# Normalization\n",
    "xTrain = xTrain / 255\n",
    "xTest = xTest / 255\n",
    "xTrain.shape\n",
    "numberOfInputs = xTrain.shape[0]"
   ]
  },
  {
   "cell_type": "code",
   "execution_count": 253,
   "metadata": {
    "collapsed": true
   },
   "outputs": [],
   "source": [
    "yTrainEncoded = np.zeros((numberOfInputs, len(np.unique(yTrain))))\n",
    "for i in range(numberOfInputs):\n",
    "    yTrainEncoded[i][yTrain[i]-1] = 1\n",
    "\n",
    "yTestEncoded = np.zeros((xTest.shape[0], len(np.unique(yTest))))\n",
    "for i in range(xTest.shape[0]):\n",
    "    yTestEncoded[i][yTest[i]-1] = 1"
   ]
  },
  {
   "cell_type": "code",
   "execution_count": 258,
   "metadata": {
    "collapsed": true
   },
   "outputs": [],
   "source": [
    "# Initialize weights and bias\n",
    "W = (np.random.rand(10, 3072)) \n",
    "B = np.zeros((numberOfInputs, 10))"
   ]
  },
  {
   "cell_type": "code",
   "execution_count": 259,
   "metadata": {},
   "outputs": [
    {
     "data": {
      "image/png": "[encoded data removed]",
      "text/plain": [
       "<matplotlib.figure.Figure at 0x25205c7e828>"
      ]
     },
     "metadata": {},
     "output_type": "display_data"
    }
   ],
   "source": [
    "SVM = mutliclassSVM(W, B, polyDegree=2, margin=1, alpha=0.1, beta = 0.1, epoch=EPOCH)\n",
    "loss = SVM.fit(xTrain, yTrainEncoded)\n",
    "plt.plot(np.arange(EPOCH), loss)\n",
    "plt.show()"
   ]
  }
 ],
 "metadata": {
  "kernelspec": {
   "display_name": "Python 3",
   "language": "python",
   "name": "python3"
  },
  "language_info": {
   "codemirror_mode": {
    "name": "ipython",
    "version": 3
   },
   "file_extension": ".py",
   "mimetype": "text/x-python",
   "name": "python",
   "nbconvert_exporter": "python",
   "pygments_lexer": "ipython3",
   "version": "3.6.3"
  }
 },
 "nbformat": 4,
 "nbformat_minor": 2
}
