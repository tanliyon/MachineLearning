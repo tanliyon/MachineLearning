{
 "cells": [
  {
   "cell_type": "code",
   "execution_count": 159,
   "metadata": {
    "collapsed": true
   },
   "outputs": [],
   "source": [
    "import numpy as np\n",
    "import pandas as pd"
   ]
  },
  {
   "cell_type": "code",
   "execution_count": 160,
   "metadata": {
    "collapsed": true
   },
   "outputs": [],
   "source": [
    "def conditionalProbability(inputData, eventA, eventB):\n",
    "    probabilityOfA = probability(inputData, eventA)\n",
    "    probabilityOfB = probability(inputData, eventB)\n",
    "    posteriorProbability = (priorProbability * probabilityOfA) / probabilityOfB\n",
    "    return posteriorProbability"
   ]
  },
  {
   "cell_type": "code",
   "execution_count": 161,
   "metadata": {
    "collapsed": true
   },
   "outputs": [],
   "source": [
    "def probability(inputData, targetColumn, event):\n",
    "    numberOfRows = inputData.shape[0]\n",
    "    count = 0\n",
    "    \n",
    "    for i in range(numberOfRows):\n",
    "        if inputData[targetColumn][i+1] == event:\n",
    "            count += 1\n",
    "    \n",
    "    return (count / numberOfRows)"
   ]
  },
  {
   "cell_type": "code",
   "execution_count": 162,
   "metadata": {},
   "outputs": [
    {
     "data": {
      "text/html": [
       "<div>\n",
       "<style scoped>\n",
       "    .dataframe tbody tr th:only-of-type {\n",
       "        vertical-align: middle;\n",
       "    }\n",
       "\n",
       "    .dataframe tbody tr th {\n",
       "        vertical-align: top;\n",
       "    }\n",
       "\n",
       "    .dataframe thead th {\n",
       "        text-align: right;\n",
       "    }\n",
       "</style>\n",
       "<table border=\"1\" class=\"dataframe\">\n",
       "  <thead>\n",
       "    <tr style=\"text-align: right;\">\n",
       "      <th></th>\n",
       "      <th>Homework Status</th>\n",
       "      <th>Exam Status</th>\n",
       "      <th>Party Status</th>\n",
       "      <th>Weather</th>\n",
       "      <th>Month</th>\n",
       "      <th>Friends Availability</th>\n",
       "      <th>Activity</th>\n",
       "    </tr>\n",
       "  </thead>\n",
       "  <tbody>\n",
       "    <tr>\n",
       "      <th>1</th>\n",
       "      <td>Urgent</td>\n",
       "      <td>No</td>\n",
       "      <td>Yes</td>\n",
       "      <td>Sunny</td>\n",
       "      <td>January</td>\n",
       "      <td>Yes</td>\n",
       "      <td>Party</td>\n",
       "    </tr>\n",
       "    <tr>\n",
       "      <th>2</th>\n",
       "      <td>Urgent</td>\n",
       "      <td>Near</td>\n",
       "      <td>No</td>\n",
       "      <td>Rainy</td>\n",
       "      <td>December</td>\n",
       "      <td>No</td>\n",
       "      <td>Study</td>\n",
       "    </tr>\n",
       "    <tr>\n",
       "      <th>3</th>\n",
       "      <td>Near</td>\n",
       "      <td>No</td>\n",
       "      <td>No</td>\n",
       "      <td>Sunny</td>\n",
       "      <td>May</td>\n",
       "      <td>Yes</td>\n",
       "      <td>Sports</td>\n",
       "    </tr>\n",
       "    <tr>\n",
       "      <th>4</th>\n",
       "      <td>No</td>\n",
       "      <td>Urgent</td>\n",
       "      <td>Yes</td>\n",
       "      <td>Rainy</td>\n",
       "      <td>December</td>\n",
       "      <td>No</td>\n",
       "      <td>Study</td>\n",
       "    </tr>\n",
       "    <tr>\n",
       "      <th>5</th>\n",
       "      <td>Near</td>\n",
       "      <td>No</td>\n",
       "      <td>No</td>\n",
       "      <td>Sunny</td>\n",
       "      <td>January</td>\n",
       "      <td>Yes</td>\n",
       "      <td>Sports</td>\n",
       "    </tr>\n",
       "  </tbody>\n",
       "</table>\n",
       "</div>"
      ],
      "text/plain": [
       "  Homework Status Exam Status Party Status Weather     Month  \\\n",
       "1          Urgent          No          Yes   Sunny   January   \n",
       "2          Urgent        Near           No   Rainy  December   \n",
       "3            Near          No           No   Sunny       May   \n",
       "4              No      Urgent          Yes   Rainy  December   \n",
       "5            Near          No           No   Sunny   January   \n",
       "\n",
       "  Friends Availability Activity  \n",
       "1                  Yes    Party  \n",
       "2                   No    Study  \n",
       "3                  Yes   Sports  \n",
       "4                   No    Study  \n",
       "5                  Yes   Sports  "
      ]
     },
     "execution_count": 162,
     "metadata": {},
     "output_type": "execute_result"
    }
   ],
   "source": [
    "inputData = [['Urgent', 'No', 'Yes', 'Sunny', 'January', 'Yes', 'Party'], \n",
    "             ['Urgent', 'Near','No', 'Rainy', 'December', 'No', 'Study' ],\n",
    "             ['Near', 'No', 'No', 'Sunny', 'May', 'Yes', 'Sports'],\n",
    "             ['No', 'Urgent', 'Yes', 'Rainy', 'December', 'No', 'Study' ],\n",
    "             ['Near', 'No', 'No', 'Sunny', 'January', 'Yes', 'Sports'],\n",
    "             ['Urgent', 'No','Yes', 'Sunny', 'October', 'Yes', 'Party'], \n",
    "            ]\n",
    "inputDataTable = pd.DataFrame(inputData, columns=['Homework Status', 'Exam Status', 'Party Status', 'Weather', 'Month', 'Friends Availability','Activity'])\n",
    "inputDataTable.index += 1\n",
    "inputDataTable.head()"
   ]
  },
  {
   "cell_type": "code",
   "execution_count": 163,
   "metadata": {},
   "outputs": [],
   "source": [
    "NUMBER_OF_FEATURES = inputDataTable.shape[1] - 1\n",
    "NUMBER_OF_INPUTS = inputDataTable.shape[0]\n",
    "NUMBER_OF_OUTCOMES = inputDataTable['Activity'].nunique()"
   ]
  },
  {
   "cell_type": "code",
   "execution_count": 164,
   "metadata": {},
   "outputs": [
    {
     "name": "stdout",
     "output_type": "stream",
     "text": [
      "What is the Homework Status? Near\n",
      "What is the Exam Status? Near\n",
      "What is the Party Status? No\n",
      "What is the Weather? Sunny\n",
      "What is the Month? January\n",
      "What is the Friends Availability? Yes\n",
      "[['Near' 'Near' 'No' 'Sunny' 'January' 'Yes']]\n"
     ]
    }
   ],
   "source": [
    "userInput = np.chararray((1, NUMBER_OF_FEATURES), itemsize = 20, unicode = True)\n",
    "i = 0;\n",
    "userInput\n",
    "for i in range (NUMBER_OF_FEATURES):\n",
    "    userInput[0][i] = input(\"What is the %s? \" %inputDataTable.columns[i])\n",
    "\n",
    "print(userInput)"
   ]
  },
  {
   "cell_type": "code",
   "execution_count": 165,
   "metadata": {},
   "outputs": [
    {
     "data": {
      "text/html": [
       "<div>\n",
       "<style scoped>\n",
       "    .dataframe tbody tr th:only-of-type {\n",
       "        vertical-align: middle;\n",
       "    }\n",
       "\n",
       "    .dataframe tbody tr th {\n",
       "        vertical-align: top;\n",
       "    }\n",
       "\n",
       "    .dataframe thead th {\n",
       "        text-align: right;\n",
       "    }\n",
       "</style>\n",
       "<table border=\"1\" class=\"dataframe\">\n",
       "  <thead>\n",
       "    <tr style=\"text-align: right;\">\n",
       "      <th></th>\n",
       "      <th>Homework Status</th>\n",
       "      <th>Exam Status</th>\n",
       "      <th>Party Status</th>\n",
       "      <th>Weather</th>\n",
       "      <th>Month</th>\n",
       "      <th>Friends Availability</th>\n",
       "      <th>Activity</th>\n",
       "    </tr>\n",
       "  </thead>\n",
       "  <tbody>\n",
       "    <tr>\n",
       "      <th>1</th>\n",
       "      <td>2</td>\n",
       "      <td>0</td>\n",
       "      <td>1</td>\n",
       "      <td>1</td>\n",
       "      <td>1</td>\n",
       "      <td>1</td>\n",
       "      <td>2</td>\n",
       "    </tr>\n",
       "    <tr>\n",
       "      <th>2</th>\n",
       "      <td>2</td>\n",
       "      <td>1</td>\n",
       "      <td>0</td>\n",
       "      <td>0</td>\n",
       "      <td>12</td>\n",
       "      <td>0</td>\n",
       "      <td>1</td>\n",
       "    </tr>\n",
       "    <tr>\n",
       "      <th>3</th>\n",
       "      <td>1</td>\n",
       "      <td>0</td>\n",
       "      <td>0</td>\n",
       "      <td>1</td>\n",
       "      <td>5</td>\n",
       "      <td>1</td>\n",
       "      <td>0</td>\n",
       "    </tr>\n",
       "    <tr>\n",
       "      <th>4</th>\n",
       "      <td>0</td>\n",
       "      <td>2</td>\n",
       "      <td>1</td>\n",
       "      <td>0</td>\n",
       "      <td>12</td>\n",
       "      <td>0</td>\n",
       "      <td>1</td>\n",
       "    </tr>\n",
       "    <tr>\n",
       "      <th>5</th>\n",
       "      <td>1</td>\n",
       "      <td>0</td>\n",
       "      <td>0</td>\n",
       "      <td>1</td>\n",
       "      <td>1</td>\n",
       "      <td>1</td>\n",
       "      <td>0</td>\n",
       "    </tr>\n",
       "    <tr>\n",
       "      <th>6</th>\n",
       "      <td>2</td>\n",
       "      <td>0</td>\n",
       "      <td>1</td>\n",
       "      <td>1</td>\n",
       "      <td>10</td>\n",
       "      <td>1</td>\n",
       "      <td>2</td>\n",
       "    </tr>\n",
       "  </tbody>\n",
       "</table>\n",
       "</div>"
      ],
      "text/plain": [
       "   Homework Status  Exam Status  Party Status  Weather  Month  \\\n",
       "1                2            0             1        1      1   \n",
       "2                2            1             0        0     12   \n",
       "3                1            0             0        1      5   \n",
       "4                0            2             1        0     12   \n",
       "5                1            0             0        1      1   \n",
       "6                2            0             1        1     10   \n",
       "\n",
       "   Friends Availability  Activity  \n",
       "1                     1         2  \n",
       "2                     0         1  \n",
       "3                     1         0  \n",
       "4                     0         1  \n",
       "5                     1         0  \n",
       "6                     1         2  "
      ]
     },
     "execution_count": 165,
     "metadata": {},
     "output_type": "execute_result"
    }
   ],
   "source": [
    "#Urgent = 2\n",
    "#Sunny = 1\n",
    "#Near = 1\n",
    "#Yes = 1\n",
    "#Cloudy = 0\n",
    "#No = 0\n",
    "\n",
    "#Months 1-12 accordingly\n",
    "\n",
    "#Activity\n",
    "    #Party = 2\n",
    "    #Study = 1\n",
    "    #Sports = 0\n",
    "\n",
    "encodedInputData = inputDataTable.replace({'December': 12, 'November':11, 'October':10, \n",
    "                        'September':9,'August':8,'July':7,\n",
    "                        'June':6,'May':5,'April':4,\n",
    "                        'March':3,'February':2,'January':1,\n",
    "                        'Urgent':2, 'Party':2, 'Study':1, \n",
    "                        'Near':1, 'Sunny':1, 'Yes':1, \n",
    "                        'No':0, 'Rainy':0, 'Sports':0})\n",
    "encodedInputData"
   ]
  },
  {
   "cell_type": "code",
   "execution_count": 167,
   "metadata": {},
   "outputs": [
    {
     "ename": "TypeError",
     "evalue": "probability() missing 1 required positional argument: 'event'",
     "output_type": "error",
     "traceback": [
      "\u001b[1;31m---------------------------------------------------------------------------\u001b[0m",
      "\u001b[1;31mTypeError\u001b[0m                                 Traceback (most recent call last)",
      "\u001b[1;32m<ipython-input-167-b1352e3cd359>\u001b[0m in \u001b[0;36m<module>\u001b[1;34m()\u001b[0m\n\u001b[0;32m      4\u001b[0m     \u001b[0mtotalPossibility\u001b[0m \u001b[1;33m=\u001b[0m \u001b[0mprobability\u001b[0m\u001b[1;33m(\u001b[0m\u001b[0mencodedInputData\u001b[0m\u001b[1;33m,\u001b[0m \u001b[1;34m'Activity'\u001b[0m\u001b[1;33m,\u001b[0m \u001b[1;36m0\u001b[0m\u001b[1;33m)\u001b[0m\u001b[1;33m\u001b[0m\u001b[0m\n\u001b[0;32m      5\u001b[0m     \u001b[1;32mfor\u001b[0m \u001b[0mj\u001b[0m \u001b[1;32min\u001b[0m \u001b[0mrange\u001b[0m \u001b[1;33m(\u001b[0m\u001b[0mNUMBER_OF_FEATURES\u001b[0m\u001b[1;33m)\u001b[0m\u001b[1;33m:\u001b[0m\u001b[1;33m\u001b[0m\u001b[0m\n\u001b[1;32m----> 6\u001b[1;33m          \u001b[0mtotalPossibility\u001b[0m \u001b[1;33m*=\u001b[0m \u001b[0mconditionalProbability\u001b[0m\u001b[1;33m(\u001b[0m\u001b[0minputDataTable\u001b[0m\u001b[1;33m,\u001b[0m \u001b[0mi\u001b[0m\u001b[1;33m,\u001b[0m \u001b[0mj\u001b[0m\u001b[1;33m)\u001b[0m\u001b[1;33m\u001b[0m\u001b[0m\n\u001b[0m\u001b[0;32m      7\u001b[0m     \u001b[0mactivityPossibility\u001b[0m\u001b[1;33m[\u001b[0m\u001b[0mi\u001b[0m\u001b[1;33m]\u001b[0m \u001b[1;33m=\u001b[0m \u001b[0mtotalPossibility\u001b[0m\u001b[1;33m\u001b[0m\u001b[0m\n\u001b[0;32m      8\u001b[0m \u001b[1;33m\u001b[0m\u001b[0m\n",
      "\u001b[1;32m<ipython-input-160-e22e89d90527>\u001b[0m in \u001b[0;36mconditionalProbability\u001b[1;34m(inputData, eventA, eventB)\u001b[0m\n\u001b[0;32m      1\u001b[0m \u001b[1;32mdef\u001b[0m \u001b[0mconditionalProbability\u001b[0m\u001b[1;33m(\u001b[0m\u001b[0minputData\u001b[0m\u001b[1;33m,\u001b[0m \u001b[0meventA\u001b[0m\u001b[1;33m,\u001b[0m \u001b[0meventB\u001b[0m\u001b[1;33m)\u001b[0m\u001b[1;33m:\u001b[0m\u001b[1;33m\u001b[0m\u001b[0m\n\u001b[1;32m----> 2\u001b[1;33m     \u001b[0mprobabilityOfA\u001b[0m \u001b[1;33m=\u001b[0m \u001b[0mprobability\u001b[0m\u001b[1;33m(\u001b[0m\u001b[0minputData\u001b[0m\u001b[1;33m,\u001b[0m \u001b[0meventA\u001b[0m\u001b[1;33m)\u001b[0m\u001b[1;33m\u001b[0m\u001b[0m\n\u001b[0m\u001b[0;32m      3\u001b[0m     \u001b[0mprobabilityOfB\u001b[0m \u001b[1;33m=\u001b[0m \u001b[0mprobability\u001b[0m\u001b[1;33m(\u001b[0m\u001b[0minputData\u001b[0m\u001b[1;33m,\u001b[0m \u001b[0meventB\u001b[0m\u001b[1;33m)\u001b[0m\u001b[1;33m\u001b[0m\u001b[0m\n\u001b[0;32m      4\u001b[0m     \u001b[0mposteriorProbability\u001b[0m \u001b[1;33m=\u001b[0m \u001b[1;33m(\u001b[0m\u001b[0mpriorProbability\u001b[0m \u001b[1;33m*\u001b[0m \u001b[0mprobabilityOfA\u001b[0m\u001b[1;33m)\u001b[0m \u001b[1;33m/\u001b[0m \u001b[0mprobabilityOfB\u001b[0m\u001b[1;33m\u001b[0m\u001b[0m\n\u001b[0;32m      5\u001b[0m     \u001b[1;32mreturn\u001b[0m \u001b[0mposteriorProbability\u001b[0m\u001b[1;33m\u001b[0m\u001b[0m\n",
      "\u001b[1;31mTypeError\u001b[0m: probability() missing 1 required positional argument: 'event'"
     ]
    }
   ],
   "source": [
    "activityPossibility = np.zeros(10)\n",
    "\n",
    "for i in range (NUMBER_OF_OUTCOMES):\n",
    "    activityProbability = probability(encodedInputData, 'Activity', 0)\n",
    "    for j in range (NUMBER_OF_FEATURES):\n",
    "         totalPossibility *= conditionalProbability(inputDataTable, i, j)\n",
    "    activityPossibility[i] = totalPossibility\n",
    "\n",
    "activityPossibility"
   ]
  },
  {
   "cell_type": "code",
   "execution_count": null,
   "metadata": {},
   "outputs": [],
   "source": [
    "encodedInputData['Activity'][1]"
   ]
  },
  {
   "cell_type": "code",
   "execution_count": null,
   "metadata": {
    "collapsed": true
   },
   "outputs": [],
   "source": []
  },
  {
   "cell_type": "code",
   "execution_count": null,
   "metadata": {
    "collapsed": true
   },
   "outputs": [],
   "source": []
  },
  {
   "cell_type": "code",
   "execution_count": null,
   "metadata": {
    "collapsed": true
   },
   "outputs": [],
   "source": []
  },
  {
   "cell_type": "code",
   "execution_count": null,
   "metadata": {
    "collapsed": true
   },
   "outputs": [],
   "source": []
  },
  {
   "cell_type": "code",
   "execution_count": null,
   "metadata": {},
   "outputs": [],
   "source": [
    "\n",
    "\n",
    "probabilityTable = []\n",
    "\n",
    "for items in range (inputDataTable.shape[0]):\n",
    "    conditionalProbability(inputDataTable[])"
   ]
  }
 ],
 "metadata": {
  "kernelspec": {
   "display_name": "Python 3",
   "language": "python",
   "name": "python3"
  },
  "language_info": {
   "codemirror_mode": {
    "name": "ipython",
    "version": 3
   },
   "file_extension": ".py",
   "mimetype": "text/x-python",
   "name": "python",
   "nbconvert_exporter": "python",
   "pygments_lexer": "ipython3",
   "version": "3.6.3"
  }
 },
 "nbformat": 4,
 "nbformat_minor": 2
}
