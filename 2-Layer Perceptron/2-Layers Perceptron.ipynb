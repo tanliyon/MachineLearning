{
 "cells": [
  {
   "cell_type": "code",
   "execution_count": 89,
   "metadata": {
    "collapsed": true
   },
   "outputs": [],
   "source": [
    "import numpy as np\n",
    "import matplotlib.pyplot as plt\n",
    "import sys\n",
    "import traceback"
   ]
  },
  {
   "cell_type": "code",
   "execution_count": 227,
   "metadata": {},
   "outputs": [],
   "source": [
    "#Main MLP Class\n",
    "class MultiLayer_Perceptron():\n",
    "    def __init__(self, layers=1):\n",
    "        self.layers = layers\n",
    "    \n",
    "    class Optimizer():\n",
    "        def __init__(self, method):\n",
    "            self.method = method\n",
    "    \n",
    "    class Utilities():\n",
    "        def Perceptron_forward(X, W, B):\n",
    "            Y = np.matmul(X, W) + B\n",
    "            return Y\n",
    "        \n",
    "        def Perceptron_backward(X, W):\n",
    "            derivative = np.sum(X, axis=0)\n",
    "            derivative = np.tile(derivative, (W.shape[1], 1))\n",
    "            return np.transpose(derivative)\n",
    "        \n",
    "        def sigmoid_forward(X):\n",
    "            Y = 1/(1 + np.exp(-X))\n",
    "            return Y\n",
    "        \n",
    "        def sigmoid_backward(X):\n",
    "            sigmoid = 1/(1 + np.exp(-X))\n",
    "            derivative = sigmoid * (1-sigmoid)\n",
    "            return derivative"
   ]
  },
  {
   "cell_type": "code",
   "execution_count": 230,
   "metadata": {},
   "outputs": [],
   "source": [
    "#Unit Testing\n",
    "class Unit_Test():\n",
    "    def _testAll(self):\n",
    "        self._testSigmoid()\n",
    "        self._testNN()\n",
    "    \n",
    "    def _testSigmoid(self):\n",
    "        x = np.arange(0, 100, 2.5)\n",
    "        yForwardCorrect = 1/(1+np.exp(-x))\n",
    "        yBackwardCorrect = yForwardCorrect * (1- yForwardCorrect)\n",
    "        test = MultiLayer_Perceptron()\n",
    "        yForward = test.Utilities.sigmoid_forward(x)\n",
    "        yBackward = test.Utilities.sigmoid_backward(x)\n",
    "        try:\n",
    "            assert (np.all(yForward == yForwardCorrect))\n",
    "            assert (np.all(yBackward == yBackwardCorrect))\n",
    "            print(\"Sigmoid Status: Okay\")\n",
    "        except AssertionError:\n",
    "            _, _, tb = sys.exc_info()\n",
    "            traceback.print_tb(tb)\n",
    "            tb_info = traceback.extract_tb(tb)\n",
    "            filename, line, func, text = tb_info[-1]\n",
    "            print('An error occurred on line {} in statement {}'.format(line, text))\n",
    "    \n",
    "    def _testNN(self):\n",
    "        X = np.array(([1, 3, 5], [2, 4, 5], [0, -2, -9], [4, 2, 1]))\n",
    "        W = np.array(([1, 2], [-3, -5], [0, 11]))\n",
    "        B = np.array(([1, 8], [1, -1], [0, 3], [9, 0]))\n",
    "        yForwardCorrect = np.array(([-7, 50], [-9, 38], [6, -86], [7, 9]))\n",
    "        yBackwardCorrect = np.array(([7, 7], [7, 7], [2, 2]))\n",
    "        test = MultiLayer_Perceptron()\n",
    "        yForward =test.Utilities.Perceptron_forward(X, W, B)\n",
    "        yBackward =test.Utilities.Perceptron_backward(X, W)\n",
    "        try:\n",
    "            assert (np.all(yForward == yForwardCorrect))\n",
    "            assert (np.all(yBackward == yBackwardCorrect))\n",
    "            print(\"Perceptron Status: Okay\")\n",
    "        except AssertionError:\n",
    "            _, _, tb = sys.exc_info()\n",
    "            traceback.print_tb(tb)\n",
    "            tb_info = traceback.extract_tb(tb)\n",
    "            filename, line, func, text = tb_info[-1]\n",
    "            print('An error occurred on line {} in statement {}'.format(line, text))"
   ]
  },
  {
   "cell_type": "code",
   "execution_count": 231,
   "metadata": {},
   "outputs": [
    {
     "name": "stdout",
     "output_type": "stream",
     "text": [
      "Sigmoid Status: Okay\n",
      "Perceptron Status: Okay\n"
     ]
    }
   ],
   "source": [
    "test = Unit_Test()\n",
    "test._testAll()"
   ]
  },
  {
   "cell_type": "code",
   "execution_count": 88,
   "metadata": {},
   "outputs": [
    {
     "ename": "NameError",
     "evalue": "name 'Logger' is not defined",
     "output_type": "error",
     "traceback": [
      "\u001b[1;31m---------------------------------------------------------------------------\u001b[0m",
      "\u001b[1;31mNameError\u001b[0m                                 Traceback (most recent call last)",
      "\u001b[1;32m<ipython-input-88-d048d491091a>\u001b[0m in \u001b[0;36m<module>\u001b[1;34m()\u001b[0m\n\u001b[1;32m----> 1\u001b[1;33m \u001b[0mLogger\u001b[0m\u001b[1;33m.\u001b[0m\u001b[0mexception\u001b[0m\u001b[1;33m\u001b[0m\u001b[0m\n\u001b[0m",
      "\u001b[1;31mNameError\u001b[0m: name 'Logger' is not defined"
     ]
    }
   ],
   "source": []
  },
  {
   "cell_type": "code",
   "execution_count": null,
   "metadata": {
    "collapsed": true
   },
   "outputs": [],
   "source": []
  }
 ],
 "metadata": {
  "kernelspec": {
   "display_name": "Python 3",
   "language": "python",
   "name": "python3"
  },
  "language_info": {
   "codemirror_mode": {
    "name": "ipython",
    "version": 3
   },
   "file_extension": ".py",
   "mimetype": "text/x-python",
   "name": "python",
   "nbconvert_exporter": "python",
   "pygments_lexer": "ipython3",
   "version": "3.6.3"
  }
 },
 "nbformat": 4,
 "nbformat_minor": 2
}
