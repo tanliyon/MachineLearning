{
 "cells": [
  {
   "cell_type": "code",
   "execution_count": 2,
   "metadata": {
    "collapsed": true
   },
   "outputs": [],
   "source": [
    "import numpy as np\n",
    "import matplotlib.pyplot as plt\n",
    "import sys\n",
    "import traceback"
   ]
  },
  {
   "cell_type": "code",
   "execution_count": 67,
   "metadata": {},
   "outputs": [],
   "source": [
    "#Main MLP Class\n",
    "class MultiLayer_Perceptron():\n",
    "    def __init__(self, learningRate=0.01):\n",
    "        self.learningRate = learningRate\n",
    "        \n",
    "    class Model():\n",
    "        layer = []\n",
    "        utility = Utilities()\n",
    "        W = []\n",
    "        B = []\n",
    "        \n",
    "        def __init__(self, hidden_layers=1):\n",
    "            self.hidden_layers = hidden_layers\n",
    "        \n",
    "        def fit(self, Xinput, W, B): \n",
    "            counter = 0\n",
    "            for iter, function in enumerate(self.layer):\n",
    "                if iter % 2 == 0 and iter != 0:\n",
    "                    counter += 1\n",
    "                currentW = W[counter]\n",
    "                Y = function(Xinput, currentW, B[counter])\n",
    "                Xinput = Y\n",
    "                \n",
    "            return Y\n",
    "        \n",
    "        def addPerceptron(self):\n",
    "            self.layer.append(self.utility.Perceptron_forward)\n",
    "            \n",
    "        def addSigmoid(self):\n",
    "            self.layer.append(self.utility.Sigmoid_forward)\n",
    "    \n",
    "    class Optimizer():\n",
    "        def __init__(self, method):\n",
    "            self.method = method"
   ]
  },
  {
   "cell_type": "code",
   "execution_count": 3,
   "metadata": {
    "collapsed": true
   },
   "outputs": [],
   "source": [
    "class Utilities():\n",
    "    def Perceptron_forward(self, X, W, B):\n",
    "        Y = np.matmul(X, W) + B\n",
    "        return Y\n",
    "\n",
    "    def Perceptron_backward(self, X, W):\n",
    "        derivative = np.sum(X, axis=0)\n",
    "        derivative = np.tile(derivative, (W.shape[1], 1))\n",
    "        return np.transpose(derivative)\n",
    "\n",
    "    def Sigmoid_forward(self, X, W, B):\n",
    "        Y = 1/(1 + np.exp(-X))\n",
    "        return Y\n",
    "\n",
    "    def Sigmoid_backward(self, X):\n",
    "        sigmoid = 1/(1 + np.exp(-X))\n",
    "        derivative = sigmoid * (1-sigmoid)\n",
    "        return derivative"
   ]
  },
  {
   "cell_type": "code",
   "execution_count": 8,
   "metadata": {
    "collapsed": true
   },
   "outputs": [],
   "source": [
    "#Unit Testing for Utilities Class\n",
    "class Utilities_Test():\n",
    "    def _testAll(self):\n",
    "        self._testSigmoid()\n",
    "        self._testNN()\n",
    "    \n",
    "    def _testSigmoid(self):\n",
    "        x = np.arange(0, 100, 2.5)\n",
    "        yForwardCorrect = 1/(1+np.exp(-x))\n",
    "        yBackwardCorrect = yForwardCorrect * (1- yForwardCorrect)\n",
    "        test = Utilities()\n",
    "        yForward = test.Sigmoid_forward(x, W=0, B=0)\n",
    "        yBackward = test.Sigmoid_backward(x)\n",
    "        try:\n",
    "            assert (np.all(yForward == yForwardCorrect))\n",
    "            assert (np.all(yBackward == yBackwardCorrect))\n",
    "            print(\"Sigmoid Status: Okay\")\n",
    "        except AssertionError:\n",
    "            _, _, tb = sys.exc_info()\n",
    "            traceback.print_tb(tb)\n",
    "            tb_info = traceback.extract_tb(tb)\n",
    "            filename, line, func, text = tb_info[-1]\n",
    "            print('An error occurred on line {} in statement {}'.format(line, text))\n",
    "    \n",
    "    def _testNN(self):\n",
    "        X = np.array(([1, 3, 5], [2, 4, 5], [0, -2, -9], [4, 2, 1]))\n",
    "        W = np.array(([1, 2], [-3, -5], [0, 11]))\n",
    "        B = np.array(([1, 8], [1, -1], [0, 3], [9, 0]))\n",
    "        yForwardCorrect = np.array(([-7, 50], [-9, 38], [6, -86], [7, 9]))\n",
    "        yBackwardCorrect = np.array(([7, 7], [7, 7], [2, 2]))\n",
    "        test = Utilities()\n",
    "        yForward =test.Perceptron_forward(X, W, B)\n",
    "        yBackward =test.Perceptron_backward(X, W)\n",
    "        try:\n",
    "            assert (np.all(yForward == yForwardCorrect))\n",
    "            assert (np.all(yBackward == yBackwardCorrect))\n",
    "            print(\"Perceptron Status: Okay\")\n",
    "        except AssertionError:\n",
    "            _, _, tb = sys.exc_info()\n",
    "            traceback.print_tb(tb)\n",
    "            tb_info = traceback.extract_tb(tb)\n",
    "            filename, line, func, text = tb_info[-1]\n",
    "            print('An error occurred on line {} in statement {}'.format(line, text))"
   ]
  },
  {
   "cell_type": "code",
   "execution_count": 9,
   "metadata": {},
   "outputs": [
    {
     "name": "stdout",
     "output_type": "stream",
     "text": [
      "Sigmoid Status: Okay\n",
      "Perceptron Status: Okay\n"
     ]
    }
   ],
   "source": [
    "test = Utilities_Test()\n",
    "test._testAll()"
   ]
  },
  {
   "cell_type": "code",
   "execution_count": 56,
   "metadata": {
    "collapsed": true
   },
   "outputs": [],
   "source": [
    "NUMBER_OF_OUTPUTS = 2"
   ]
  },
  {
   "cell_type": "code",
   "execution_count": 68,
   "metadata": {},
   "outputs": [],
   "source": [
    "test = MultiLayer_Perceptron()\n",
    "model = test.Model()\n",
    "model.addPerceptron()\n",
    "model.addSigmoid()\n",
    "model.addPerceptron()\n",
    "model.addSigmoid()"
   ]
  },
  {
   "cell_type": "code",
   "execution_count": 69,
   "metadata": {},
   "outputs": [],
   "source": [
    "X = np.array(([1, 2, 3],[2, 4, 6],[3, 6, 9]))\n",
    "W1 = np.random.rand(3, 2) - 0.5 \n",
    "B1 = np.ones((3, 2))\n",
    "W2 = np.random.rand(2, 2) - 0.5\n",
    "B2 = np.ones((3, 2))\n",
    "W = [W1, W2]\n",
    "B = [B1, B2]"
   ]
  },
  {
   "cell_type": "code",
   "execution_count": 70,
   "metadata": {},
   "outputs": [
    {
     "data": {
      "text/plain": [
       "array([[ 0.83308081,  0.75471391],\n",
       "       [ 0.83904471,  0.75634779],\n",
       "       [ 0.84325009,  0.757528  ]])"
      ]
     },
     "execution_count": 70,
     "metadata": {},
     "output_type": "execute_result"
    }
   ],
   "source": [
    "Y = model.fit(X, W, B)\n",
    "Y"
   ]
  }
 ],
 "metadata": {
  "kernelspec": {
   "display_name": "Python 3",
   "language": "python",
   "name": "python3"
  },
  "language_info": {
   "codemirror_mode": {
    "name": "ipython",
    "version": 3
   },
   "file_extension": ".py",
   "mimetype": "text/x-python",
   "name": "python",
   "nbconvert_exporter": "python",
   "pygments_lexer": "ipython3",
   "version": "3.6.3"
  }
 },
 "nbformat": 4,
 "nbformat_minor": 2
}
